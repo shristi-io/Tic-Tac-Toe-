{
 "cells": [
  {
   "cell_type": "code",
   "execution_count": 2,
   "id": "c2c6500a",
   "metadata": {},
   "outputs": [],
   "source": [
    "def display_game(game_list):\n",
    "    print(game_list[0] + \" | \" + game_list[1] + \" | \" + game_list[2])\n",
    "    print(\"_ | _ | _\")\n",
    "    print(game_list[3] + \" | \" + game_list[4] + \" | \" + game_list[5])\n",
    "    print(\"_ | _ | _\")\n",
    "    print(game_list[6] + \" | \" + game_list[7] + \" | \" + game_list[8])\n",
    "    print(\"  |   | \")"
   ]
  },
  {
   "cell_type": "code",
   "execution_count": 3,
   "id": "7f7edc30",
   "metadata": {},
   "outputs": [],
   "source": [
    "def user_position(game_list):\n",
    "    not_range = True\n",
    "    while not_range:\n",
    "        user_input = input(\"Enter your position (1-9): \")\n",
    "        if user_input.isdigit():\n",
    "            if int(user_input) in range(1,10):\n",
    "                if game_list[int(user_input)-1] != \" \":\n",
    "                    print(\"Position already marked!\")\n",
    "                else:\n",
    "                    return int(user_input)\n",
    "            else:\n",
    "                print(\"Out of range\")\n",
    "        else:\n",
    "            print(\"You need to enter a number\")"
   ]
  },
  {
   "cell_type": "code",
   "execution_count": 4,
   "id": "dc2e7fd6",
   "metadata": {},
   "outputs": [],
   "source": [
    "def marker():\n",
    "    while True:\n",
    "        user_input = input(f\"Player 1 Choose X or O: \")\n",
    "        if user_input.upper() == \"X\":\n",
    "            return \"X\"\n",
    "        elif user_input.upper() == 'O':\n",
    "            return \"O\"\n",
    "        else:\n",
    "            print(\"Invalid choice! Choose between X and O\")"
   ]
  },
  {
   "cell_type": "code",
   "execution_count": 5,
   "id": "a236f014",
   "metadata": {},
   "outputs": [],
   "source": [
    "def replace_position(game_list, position, mark):\n",
    "    game_list[position-1] = mark\n",
    "    return game_list"
   ]
  },
  {
   "cell_type": "code",
   "execution_count": 6,
   "id": "01ddceaf",
   "metadata": {},
   "outputs": [],
   "source": [
    "def game_win(board, mark1, mark2):\n",
    "    if \" \" not in board:\n",
    "        return \"It's a Tie\"\n",
    "    elif board[0:3] == [mark1,mark1,mark1] or board[3:6] == [mark1,mark1,mark1] or board[6:9] == [mark1,mark1,mark1]:\n",
    "        return \"Player 1 win!\"\n",
    "    elif board[0]==board[3]==board[6]==mark1 or board[1]==board[4]==board[7]==mark1 or board[2]==board[5]==board[8]==mark1:\n",
    "        return \"Player 1 win\"\n",
    "    elif board[0]==board[4]==board[8]==mark1 or board[2]==board[4]==board[6]==mark1:\n",
    "        return \"Player 1 win\"\n",
    "    if board[0:3] == [mark2,mark2,mark2] or board[3:6] == [mark2,mark2,mark2] or board[6:9] == [mark2,mark2,mark2]:\n",
    "        return \"Player 2 win!\"\n",
    "    elif board[0]==board[3]==board[6]==mark2 or board[1]==board[4]==board[7]==mark2 or board[2]==board[5]==board[8]==mark2:\n",
    "        return \"Player 2 win\"\n",
    "    elif board[0]==board[4]==board[8]==mark2 or board[2]==board[4]==board[6]==mark2:\n",
    "        return \"Player 2 win\"\n",
    "    else:\n",
    "        return \"Continue\""
   ]
  },
  {
   "cell_type": "code",
   "execution_count": 7,
   "id": "32f88125",
   "metadata": {},
   "outputs": [],
   "source": [
    "def keep_playing():\n",
    "    while True:\n",
    "        inp = input(\"Play again? Y/N\")\n",
    "        if inp.upper() == \"Y\":\n",
    "            return True\n",
    "        elif inp.upper() == \"N\":\n",
    "            print(\"Thanks for playing\")\n",
    "            return False\n",
    "        else:\n",
    "            print(\"Enter Y or N\")"
   ]
  },
  {
   "cell_type": "code",
   "execution_count": null,
   "id": "075cfd79",
   "metadata": {},
   "outputs": [],
   "source": []
  },
  {
   "cell_type": "code",
   "execution_count": null,
   "id": "74640117",
   "metadata": {},
   "outputs": [
    {
     "name": "stdout",
     "output_type": "stream",
     "text": [
      "X | X | O\n",
      "_ | _ | _\n",
      "  | X |  \n",
      "_ | _ | _\n",
      "O |   |  \n",
      "  |   | \n",
      "Continue\n",
      "Player 2's turn\n"
     ]
    }
   ],
   "source": [
    "#Game Start\n",
    "from IPython.display import clear_output\n",
    "game_on = True\n",
    "while game_on:\n",
    "    clear_output()\n",
    "    myboard = [\" \", \" \", \" \", \" \", \" \", \" \", \" \", \" \", \" \"]\n",
    "    player_1 = marker()\n",
    "    if player_1 == \"X\":\n",
    "        player_2 = \"O\"\n",
    "    else:\n",
    "        player_2 = \"X\"\n",
    "    display_game(myboard)\n",
    "    while True:\n",
    "        print(\"Player 1's turn\")\n",
    "        player_index = user_position(myboard)\n",
    "        myboard = replace_position(myboard, player_index, player_1)\n",
    "        clear_output()\n",
    "        display_game(myboard)\n",
    "        win = game_win(myboard, player_1, player_2)\n",
    "        if win!= \"Continue\":\n",
    "            print(win)\n",
    "            break\n",
    "        else:\n",
    "            print(win)\n",
    "        print(\"Player 2's turn\")\n",
    "        player_index = user_position(myboard)\n",
    "        myboard = replace_position(myboard, player_index, player_2)\n",
    "        clear_output()\n",
    "        display_game(myboard)\n",
    "        win = game_win(myboard, player_1, player_2)\n",
    "        if win!= \"Continue\":\n",
    "            print(win)\n",
    "            break\n",
    "        else:\n",
    "            print(win)\n",
    "    game_on = keep_playing()\n",
    "    \n",
    "    "
   ]
  },
  {
   "cell_type": "code",
   "execution_count": null,
   "id": "9615207f",
   "metadata": {},
   "outputs": [],
   "source": []
  }
 ],
 "metadata": {
  "kernelspec": {
   "display_name": "Python 3 (ipykernel)",
   "language": "python",
   "name": "python3"
  },
  "language_info": {
   "codemirror_mode": {
    "name": "ipython",
    "version": 3
   },
   "file_extension": ".py",
   "mimetype": "text/x-python",
   "name": "python",
   "nbconvert_exporter": "python",
   "pygments_lexer": "ipython3",
   "version": "3.9.7"
  }
 },
 "nbformat": 4,
 "nbformat_minor": 5
}
